{
 "cells": [
  {
   "cell_type": "code",
   "execution_count": 1,
   "metadata": {},
   "outputs": [],
   "source": [
    "import sys\n",
    "import os\n",
    "import itertools"
   ]
  },
  {
   "cell_type": "code",
   "execution_count": 6,
   "metadata": {},
   "outputs": [],
   "source": [
    "sys.path.append(os.path.abspath('../environment'))\n",
    "sys.path.append(os.path.abspath('../model'))\n",
    "sys.path.append(os.path.abspath('../src'))\n",
    "\n",
    "# Import the environment and agent\n",
    "from environment import BlackjackGame\n",
    "from td_agent import TemporalDifference\n",
    "from utilities import test_td_model"
   ]
  },
  {
   "cell_type": "code",
   "execution_count": null,
   "metadata": {},
   "outputs": [
    {
     "name": "stdout",
     "output_type": "stream",
     "text": [
      "\n",
      "Training with alpha=0.1, gamma=0.9, epsilon=0.2, lambd=0\n"
     ]
    },
    {
     "name": "stderr",
     "output_type": "stream",
     "text": [
      "100%|██████████| 1000000/1000000 [01:19<00:00, 12505.67it/s]\n",
      "Testing Games: 100%|██████████| 1000000/1000000 [01:07<00:00, 14763.44it/s]\n"
     ]
    },
    {
     "name": "stdout",
     "output_type": "stream",
     "text": [
      "Test Results for alpha=0.1, gamma=0.9, epsilon=0.2, lambd=0:\n",
      "Win rate: 43.10%\n",
      "Loss rate: 48.27%\n",
      "Tie rate: 8.63%\n",
      "Blackjack rate: 5.95%\n",
      "Total reward: -439060.0\n",
      "Average reward: -0.43906\n",
      "\n",
      "Training with alpha=0.1, gamma=0.9, epsilon=0.2, lambd=0.5\n"
     ]
    },
    {
     "name": "stderr",
     "output_type": "stream",
     "text": [
      "100%|██████████| 1000000/1000000 [01:19<00:00, 12602.26it/s]\n",
      "Testing Games: 100%|██████████| 1000000/1000000 [01:07<00:00, 14805.74it/s]\n"
     ]
    },
    {
     "name": "stdout",
     "output_type": "stream",
     "text": [
      "Test Results for alpha=0.1, gamma=0.9, epsilon=0.2, lambd=0.5:\n",
      "Win rate: 43.43%\n",
      "Loss rate: 48.27%\n",
      "Tie rate: 8.29%\n",
      "Blackjack rate: 5.94%\n",
      "Total reward: -374250.0\n",
      "Average reward: -0.37425\n",
      "\n",
      "Training with alpha=0.1, gamma=0.9, epsilon=0.2, lambd=0.7\n"
     ]
    },
    {
     "name": "stderr",
     "output_type": "stream",
     "text": [
      "100%|██████████| 1000000/1000000 [01:19<00:00, 12650.26it/s]\n",
      "Testing Games: 100%|██████████| 1000000/1000000 [01:07<00:00, 14805.99it/s]\n"
     ]
    },
    {
     "name": "stdout",
     "output_type": "stream",
     "text": [
      "Test Results for alpha=0.1, gamma=0.9, epsilon=0.2, lambd=0.7:\n",
      "Win rate: 43.44%\n",
      "Loss rate: 48.26%\n",
      "Tie rate: 8.30%\n",
      "Blackjack rate: 5.93%\n",
      "Total reward: -372290.0\n",
      "Average reward: -0.37229\n",
      "\n",
      "Training with alpha=0.1, gamma=0.9, epsilon=0.2, lambd=0.9\n"
     ]
    },
    {
     "name": "stderr",
     "output_type": "stream",
     "text": [
      "100%|██████████| 1000000/1000000 [01:18<00:00, 12661.78it/s]\n",
      "Testing Games: 100%|██████████| 1000000/1000000 [01:07<00:00, 14852.15it/s]\n"
     ]
    },
    {
     "name": "stdout",
     "output_type": "stream",
     "text": [
      "Test Results for alpha=0.1, gamma=0.9, epsilon=0.2, lambd=0.9:\n",
      "Win rate: 43.26%\n",
      "Loss rate: 48.19%\n",
      "Tie rate: 8.55%\n",
      "Blackjack rate: 5.94%\n",
      "Total reward: -391020.0\n",
      "Average reward: -0.39102\n",
      "\n",
      "Training with alpha=0.1, gamma=0.9, epsilon=0.2, lambd=1.0\n"
     ]
    },
    {
     "name": "stderr",
     "output_type": "stream",
     "text": [
      "100%|██████████| 1000000/1000000 [01:18<00:00, 12702.53it/s]\n",
      "Testing Games: 100%|██████████| 1000000/1000000 [01:07<00:00, 14871.37it/s]\n"
     ]
    },
    {
     "name": "stdout",
     "output_type": "stream",
     "text": [
      "Test Results for alpha=0.1, gamma=0.9, epsilon=0.2, lambd=1.0:\n",
      "Win rate: 43.77%\n",
      "Loss rate: 48.48%\n",
      "Tie rate: 7.75%\n",
      "Blackjack rate: 5.95%\n",
      "Total reward: -347940.0\n",
      "Average reward: -0.34794\n",
      "\n",
      "Training with alpha=0.1, gamma=0.9, epsilon=0.1, lambd=0\n"
     ]
    },
    {
     "name": "stderr",
     "output_type": "stream",
     "text": [
      "100%|██████████| 1000000/1000000 [01:19<00:00, 12531.57it/s]\n",
      "Testing Games: 100%|██████████| 1000000/1000000 [01:07<00:00, 14789.09it/s]\n"
     ]
    },
    {
     "name": "stdout",
     "output_type": "stream",
     "text": [
      "Test Results for alpha=0.1, gamma=0.9, epsilon=0.1, lambd=0:\n",
      "Win rate: 43.00%\n",
      "Loss rate: 48.40%\n",
      "Tie rate: 8.60%\n",
      "Blackjack rate: 5.91%\n",
      "Total reward: -487600.0\n",
      "Average reward: -0.4876\n",
      "\n",
      "Training with alpha=0.1, gamma=0.9, epsilon=0.1, lambd=0.5\n"
     ]
    },
    {
     "name": "stderr",
     "output_type": "stream",
     "text": [
      "100%|██████████| 1000000/1000000 [01:19<00:00, 12563.36it/s]\n",
      "Testing Games: 100%|██████████| 1000000/1000000 [01:07<00:00, 14771.58it/s]\n"
     ]
    },
    {
     "name": "stdout",
     "output_type": "stream",
     "text": [
      "Test Results for alpha=0.1, gamma=0.9, epsilon=0.1, lambd=0.5:\n",
      "Win rate: 43.19%\n",
      "Loss rate: 48.26%\n",
      "Tie rate: 8.56%\n",
      "Blackjack rate: 5.93%\n",
      "Total reward: -420430.0\n",
      "Average reward: -0.42043\n",
      "\n",
      "Training with alpha=0.1, gamma=0.9, epsilon=0.1, lambd=0.7\n"
     ]
    },
    {
     "name": "stderr",
     "output_type": "stream",
     "text": [
      "100%|██████████| 1000000/1000000 [01:19<00:00, 12581.91it/s]\n",
      "Testing Games: 100%|██████████| 1000000/1000000 [01:07<00:00, 14783.98it/s]\n"
     ]
    },
    {
     "name": "stdout",
     "output_type": "stream",
     "text": [
      "Test Results for alpha=0.1, gamma=0.9, epsilon=0.1, lambd=0.7:\n",
      "Win rate: 43.37%\n",
      "Loss rate: 48.26%\n",
      "Tie rate: 8.38%\n",
      "Blackjack rate: 5.95%\n",
      "Total reward: -383050.0\n",
      "Average reward: -0.38305\n",
      "\n",
      "Training with alpha=0.1, gamma=0.9, epsilon=0.1, lambd=0.9\n"
     ]
    },
    {
     "name": "stderr",
     "output_type": "stream",
     "text": [
      "100%|██████████| 1000000/1000000 [01:19<00:00, 12635.11it/s]\n",
      "Testing Games: 100%|██████████| 1000000/1000000 [01:07<00:00, 14755.16it/s]\n"
     ]
    },
    {
     "name": "stdout",
     "output_type": "stream",
     "text": [
      "Test Results for alpha=0.1, gamma=0.9, epsilon=0.1, lambd=0.9:\n",
      "Win rate: 43.33%\n",
      "Loss rate: 48.39%\n",
      "Tie rate: 8.29%\n",
      "Blackjack rate: 5.94%\n",
      "Total reward: -418410.0\n",
      "Average reward: -0.41841\n",
      "\n",
      "Training with alpha=0.1, gamma=0.9, epsilon=0.1, lambd=1.0\n"
     ]
    },
    {
     "name": "stderr",
     "output_type": "stream",
     "text": [
      "100%|██████████| 1000000/1000000 [01:18<00:00, 12662.53it/s]\n",
      "Testing Games: 100%|██████████| 1000000/1000000 [01:07<00:00, 14834.46it/s]\n"
     ]
    },
    {
     "name": "stdout",
     "output_type": "stream",
     "text": [
      "Test Results for alpha=0.1, gamma=0.9, epsilon=0.1, lambd=1.0:\n",
      "Win rate: 43.71%\n",
      "Loss rate: 48.37%\n",
      "Tie rate: 7.92%\n",
      "Blackjack rate: 5.95%\n",
      "Total reward: -336220.0\n",
      "Average reward: -0.33622\n",
      "\n",
      "Training with alpha=0.1, gamma=0.9, epsilon=0.05, lambd=0\n"
     ]
    },
    {
     "name": "stderr",
     "output_type": "stream",
     "text": [
      "100%|██████████| 1000000/1000000 [01:19<00:00, 12519.00it/s]\n",
      "Testing Games: 100%|██████████| 1000000/1000000 [01:07<00:00, 14747.52it/s]\n"
     ]
    },
    {
     "name": "stdout",
     "output_type": "stream",
     "text": [
      "Test Results for alpha=0.1, gamma=0.9, epsilon=0.05, lambd=0:\n",
      "Win rate: 42.83%\n",
      "Loss rate: 48.50%\n",
      "Tie rate: 8.67%\n",
      "Blackjack rate: 5.93%\n",
      "Total reward: -541560.0\n",
      "Average reward: -0.54156\n",
      "\n",
      "Training with alpha=0.1, gamma=0.9, epsilon=0.05, lambd=0.5\n"
     ]
    },
    {
     "name": "stderr",
     "output_type": "stream",
     "text": [
      "100%|██████████| 1000000/1000000 [01:19<00:00, 12555.75it/s]\n",
      "Testing Games: 100%|██████████| 1000000/1000000 [01:07<00:00, 14804.93it/s]\n"
     ]
    },
    {
     "name": "stdout",
     "output_type": "stream",
     "text": [
      "Test Results for alpha=0.1, gamma=0.9, epsilon=0.05, lambd=0.5:\n",
      "Win rate: 43.33%\n",
      "Loss rate: 48.35%\n",
      "Tie rate: 8.32%\n",
      "Blackjack rate: 5.95%\n",
      "Total reward: -410440.0\n",
      "Average reward: -0.41044\n",
      "\n",
      "Training with alpha=0.1, gamma=0.9, epsilon=0.05, lambd=0.7\n"
     ]
    },
    {
     "name": "stderr",
     "output_type": "stream",
     "text": [
      "100%|██████████| 1000000/1000000 [01:19<00:00, 12579.53it/s]\n",
      "Testing Games: 100%|██████████| 1000000/1000000 [01:07<00:00, 14812.46it/s]\n"
     ]
    },
    {
     "name": "stdout",
     "output_type": "stream",
     "text": [
      "Test Results for alpha=0.1, gamma=0.9, epsilon=0.05, lambd=0.7:\n",
      "Win rate: 43.39%\n",
      "Loss rate: 48.54%\n",
      "Tie rate: 8.07%\n",
      "Blackjack rate: 5.96%\n",
      "Total reward: -434110.0\n",
      "Average reward: -0.43411\n",
      "\n",
      "Training with alpha=0.1, gamma=0.9, epsilon=0.05, lambd=0.9\n"
     ]
    },
    {
     "name": "stderr",
     "output_type": "stream",
     "text": [
      "100%|██████████| 1000000/1000000 [01:19<00:00, 12631.95it/s]\n",
      "Testing Games: 100%|██████████| 1000000/1000000 [01:07<00:00, 14783.02it/s]\n"
     ]
    },
    {
     "name": "stdout",
     "output_type": "stream",
     "text": [
      "Test Results for alpha=0.1, gamma=0.9, epsilon=0.05, lambd=0.9:\n",
      "Win rate: 43.43%\n",
      "Loss rate: 48.23%\n",
      "Tie rate: 8.34%\n",
      "Blackjack rate: 5.94%\n",
      "Total reward: -364680.0\n",
      "Average reward: -0.36468\n",
      "\n",
      "Training with alpha=0.1, gamma=0.9, epsilon=0.05, lambd=1.0\n"
     ]
    },
    {
     "name": "stderr",
     "output_type": "stream",
     "text": [
      "100%|██████████| 1000000/1000000 [01:18<00:00, 12659.28it/s]\n",
      "Testing Games: 100%|██████████| 1000000/1000000 [01:07<00:00, 14826.13it/s]\n"
     ]
    },
    {
     "name": "stdout",
     "output_type": "stream",
     "text": [
      "Test Results for alpha=0.1, gamma=0.9, epsilon=0.05, lambd=1.0:\n",
      "Win rate: 43.52%\n",
      "Loss rate: 48.57%\n",
      "Tie rate: 7.92%\n",
      "Blackjack rate: 5.97%\n",
      "Total reward: -412730.0\n",
      "Average reward: -0.41273\n",
      "\n",
      "Training with alpha=0.1, gamma=0.95, epsilon=0.2, lambd=0\n"
     ]
    },
    {
     "name": "stderr",
     "output_type": "stream",
     "text": [
      "100%|██████████| 1000000/1000000 [01:19<00:00, 12594.95it/s]\n",
      "Testing Games: 100%|██████████| 1000000/1000000 [01:07<00:00, 14780.55it/s]\n"
     ]
    },
    {
     "name": "stdout",
     "output_type": "stream",
     "text": [
      "Test Results for alpha=0.1, gamma=0.95, epsilon=0.2, lambd=0:\n",
      "Win rate: 43.33%\n",
      "Loss rate: 48.05%\n",
      "Tie rate: 8.62%\n",
      "Blackjack rate: 5.95%\n",
      "Total reward: -347870.0\n",
      "Average reward: -0.34787\n",
      "\n",
      "Training with alpha=0.1, gamma=0.95, epsilon=0.2, lambd=0.5\n"
     ]
    },
    {
     "name": "stderr",
     "output_type": "stream",
     "text": [
      "100%|██████████| 1000000/1000000 [01:19<00:00, 12616.56it/s]\n",
      "Testing Games: 100%|██████████| 1000000/1000000 [01:07<00:00, 14801.16it/s]\n"
     ]
    },
    {
     "name": "stdout",
     "output_type": "stream",
     "text": [
      "Test Results for alpha=0.1, gamma=0.95, epsilon=0.2, lambd=0.5:\n",
      "Win rate: 43.49%\n",
      "Loss rate: 48.35%\n",
      "Tie rate: 8.16%\n",
      "Blackjack rate: 5.96%\n",
      "Total reward: -375320.0\n",
      "Average reward: -0.37532\n",
      "\n",
      "Training with alpha=0.1, gamma=0.95, epsilon=0.2, lambd=0.7\n"
     ]
    },
    {
     "name": "stderr",
     "output_type": "stream",
     "text": [
      "100%|██████████| 1000000/1000000 [01:19<00:00, 12653.15it/s]\n",
      "Testing Games: 100%|██████████| 1000000/1000000 [01:07<00:00, 14761.37it/s]\n"
     ]
    },
    {
     "name": "stdout",
     "output_type": "stream",
     "text": [
      "Test Results for alpha=0.1, gamma=0.95, epsilon=0.2, lambd=0.7:\n",
      "Win rate: 43.23%\n",
      "Loss rate: 48.37%\n",
      "Tie rate: 8.40%\n",
      "Blackjack rate: 5.95%\n",
      "Total reward: -432870.0\n",
      "Average reward: -0.43287\n",
      "\n",
      "Training with alpha=0.1, gamma=0.95, epsilon=0.2, lambd=0.9\n"
     ]
    },
    {
     "name": "stderr",
     "output_type": "stream",
     "text": [
      "100%|██████████| 1000000/1000000 [01:18<00:00, 12710.03it/s]\n",
      "Testing Games: 100%|██████████| 1000000/1000000 [01:07<00:00, 14891.23it/s]\n"
     ]
    },
    {
     "name": "stdout",
     "output_type": "stream",
     "text": [
      "Test Results for alpha=0.1, gamma=0.95, epsilon=0.2, lambd=0.9:\n",
      "Win rate: 43.56%\n",
      "Loss rate: 48.40%\n",
      "Tie rate: 8.03%\n",
      "Blackjack rate: 5.93%\n",
      "Total reward: -374900.0\n",
      "Average reward: -0.3749\n",
      "\n",
      "Training with alpha=0.1, gamma=0.95, epsilon=0.2, lambd=1.0\n"
     ]
    },
    {
     "name": "stderr",
     "output_type": "stream",
     "text": [
      "100%|██████████| 1000000/1000000 [01:18<00:00, 12677.63it/s]\n",
      "Testing Games: 100%|██████████| 1000000/1000000 [01:07<00:00, 14854.34it/s]\n"
     ]
    },
    {
     "name": "stdout",
     "output_type": "stream",
     "text": [
      "Test Results for alpha=0.1, gamma=0.95, epsilon=0.2, lambd=1.0:\n",
      "Win rate: 43.41%\n",
      "Loss rate: 48.29%\n",
      "Tie rate: 8.30%\n",
      "Blackjack rate: 5.95%\n",
      "Total reward: -379570.0\n",
      "Average reward: -0.37957\n",
      "\n",
      "Training with alpha=0.1, gamma=0.95, epsilon=0.1, lambd=0\n"
     ]
    },
    {
     "name": "stderr",
     "output_type": "stream",
     "text": [
      "100%|██████████| 1000000/1000000 [01:19<00:00, 12546.55it/s]\n",
      "Testing Games: 100%|██████████| 1000000/1000000 [01:07<00:00, 14805.38it/s]\n"
     ]
    },
    {
     "name": "stdout",
     "output_type": "stream",
     "text": [
      "Test Results for alpha=0.1, gamma=0.95, epsilon=0.1, lambd=0:\n",
      "Win rate: 43.26%\n",
      "Loss rate: 48.54%\n",
      "Tie rate: 8.21%\n",
      "Blackjack rate: 5.97%\n",
      "Total reward: -459330.0\n",
      "Average reward: -0.45933\n",
      "\n",
      "Training with alpha=0.1, gamma=0.95, epsilon=0.1, lambd=0.5\n"
     ]
    },
    {
     "name": "stderr",
     "output_type": "stream",
     "text": [
      "100%|██████████| 1000000/1000000 [01:19<00:00, 12556.82it/s]\n",
      "Testing Games: 100%|██████████| 1000000/1000000 [01:07<00:00, 14825.57it/s]\n"
     ]
    },
    {
     "name": "stdout",
     "output_type": "stream",
     "text": [
      "Test Results for alpha=0.1, gamma=0.95, epsilon=0.1, lambd=0.5:\n",
      "Win rate: 43.37%\n",
      "Loss rate: 48.30%\n",
      "Tie rate: 8.33%\n",
      "Blackjack rate: 5.95%\n",
      "Total reward: -392410.0\n",
      "Average reward: -0.39241\n",
      "\n",
      "Training with alpha=0.1, gamma=0.95, epsilon=0.1, lambd=0.7\n"
     ]
    },
    {
     "name": "stderr",
     "output_type": "stream",
     "text": [
      "100%|██████████| 1000000/1000000 [01:19<00:00, 12608.79it/s]\n",
      "Testing Games: 100%|██████████| 1000000/1000000 [01:07<00:00, 14749.26it/s]\n"
     ]
    },
    {
     "name": "stdout",
     "output_type": "stream",
     "text": [
      "Test Results for alpha=0.1, gamma=0.95, epsilon=0.1, lambd=0.7:\n",
      "Win rate: 43.38%\n",
      "Loss rate: 48.38%\n",
      "Tie rate: 8.24%\n",
      "Blackjack rate: 5.97%\n",
      "Total reward: -401870.0\n",
      "Average reward: -0.40187\n",
      "\n",
      "Training with alpha=0.1, gamma=0.95, epsilon=0.1, lambd=0.9\n"
     ]
    },
    {
     "name": "stderr",
     "output_type": "stream",
     "text": [
      "100%|██████████| 1000000/1000000 [01:19<00:00, 12651.27it/s]\n",
      "Testing Games: 100%|██████████| 1000000/1000000 [01:07<00:00, 14712.92it/s]\n"
     ]
    },
    {
     "name": "stdout",
     "output_type": "stream",
     "text": [
      "Test Results for alpha=0.1, gamma=0.95, epsilon=0.1, lambd=0.9:\n",
      "Win rate: 43.25%\n",
      "Loss rate: 48.42%\n",
      "Tie rate: 8.32%\n",
      "Blackjack rate: 5.94%\n",
      "Total reward: -439590.0\n",
      "Average reward: -0.43959\n",
      "\n",
      "Training with alpha=0.1, gamma=0.95, epsilon=0.1, lambd=1.0\n"
     ]
    },
    {
     "name": "stderr",
     "output_type": "stream",
     "text": [
      "100%|██████████| 1000000/1000000 [01:18<00:00, 12661.10it/s]\n",
      "Testing Games: 100%|██████████| 1000000/1000000 [01:07<00:00, 14817.62it/s]\n"
     ]
    },
    {
     "name": "stdout",
     "output_type": "stream",
     "text": [
      "Test Results for alpha=0.1, gamma=0.95, epsilon=0.1, lambd=1.0:\n",
      "Win rate: 43.52%\n",
      "Loss rate: 48.49%\n",
      "Tie rate: 7.99%\n",
      "Blackjack rate: 5.89%\n",
      "Total reward: -404260.0\n",
      "Average reward: -0.40426\n",
      "\n",
      "Training with alpha=0.1, gamma=0.95, epsilon=0.05, lambd=0\n"
     ]
    },
    {
     "name": "stderr",
     "output_type": "stream",
     "text": [
      "100%|██████████| 1000000/1000000 [01:20<00:00, 12494.82it/s]\n",
      "Testing Games: 100%|██████████| 1000000/1000000 [01:07<00:00, 14778.63it/s]\n"
     ]
    },
    {
     "name": "stdout",
     "output_type": "stream",
     "text": [
      "Test Results for alpha=0.1, gamma=0.95, epsilon=0.05, lambd=0:\n",
      "Win rate: 43.08%\n",
      "Loss rate: 48.25%\n",
      "Tie rate: 8.67%\n",
      "Blackjack rate: 5.99%\n",
      "Total reward: -435140.0\n",
      "Average reward: -0.43514\n",
      "\n",
      "Training with alpha=0.1, gamma=0.95, epsilon=0.05, lambd=0.5\n"
     ]
    },
    {
     "name": "stderr",
     "output_type": "stream",
     "text": [
      "100%|██████████| 1000000/1000000 [01:19<00:00, 12535.97it/s]\n",
      "Testing Games: 100%|██████████| 1000000/1000000 [01:07<00:00, 14782.21it/s]\n"
     ]
    },
    {
     "name": "stdout",
     "output_type": "stream",
     "text": [
      "Test Results for alpha=0.1, gamma=0.95, epsilon=0.05, lambd=0.5:\n",
      "Win rate: 42.87%\n",
      "Loss rate: 48.45%\n",
      "Tie rate: 8.69%\n",
      "Blackjack rate: 5.91%\n",
      "Total reward: -525120.0\n",
      "Average reward: -0.52512\n",
      "\n",
      "Training with alpha=0.1, gamma=0.95, epsilon=0.05, lambd=0.7\n"
     ]
    },
    {
     "name": "stderr",
     "output_type": "stream",
     "text": [
      "100%|██████████| 1000000/1000000 [01:19<00:00, 12595.85it/s]\n",
      "Testing Games: 100%|██████████| 1000000/1000000 [01:07<00:00, 14788.02it/s]\n"
     ]
    },
    {
     "name": "stdout",
     "output_type": "stream",
     "text": [
      "Test Results for alpha=0.1, gamma=0.95, epsilon=0.05, lambd=0.7:\n",
      "Win rate: 43.32%\n",
      "Loss rate: 48.31%\n",
      "Tie rate: 8.36%\n",
      "Blackjack rate: 5.93%\n",
      "Total reward: -405610.0\n",
      "Average reward: -0.40561\n",
      "\n",
      "Training with alpha=0.1, gamma=0.95, epsilon=0.05, lambd=0.9\n"
     ]
    },
    {
     "name": "stderr",
     "output_type": "stream",
     "text": [
      "100%|██████████| 1000000/1000000 [01:19<00:00, 12622.69it/s]\n",
      "Testing Games: 100%|██████████| 1000000/1000000 [01:07<00:00, 14830.84it/s]\n"
     ]
    },
    {
     "name": "stdout",
     "output_type": "stream",
     "text": [
      "Test Results for alpha=0.1, gamma=0.95, epsilon=0.05, lambd=0.9:\n",
      "Win rate: 43.30%\n",
      "Loss rate: 48.26%\n",
      "Tie rate: 8.45%\n",
      "Blackjack rate: 5.94%\n",
      "Total reward: -398090.0\n",
      "Average reward: -0.39809\n",
      "\n",
      "Training with alpha=0.1, gamma=0.95, epsilon=0.05, lambd=1.0\n"
     ]
    },
    {
     "name": "stderr",
     "output_type": "stream",
     "text": [
      "100%|██████████| 1000000/1000000 [01:18<00:00, 12663.49it/s]\n",
      "Testing Games: 100%|██████████| 1000000/1000000 [01:07<00:00, 14843.53it/s]\n"
     ]
    },
    {
     "name": "stdout",
     "output_type": "stream",
     "text": [
      "Test Results for alpha=0.1, gamma=0.95, epsilon=0.05, lambd=1.0:\n",
      "Win rate: 43.42%\n",
      "Loss rate: 48.15%\n",
      "Tie rate: 8.43%\n",
      "Blackjack rate: 5.98%\n",
      "Total reward: -349020.0\n",
      "Average reward: -0.34902\n",
      "\n",
      "Training with alpha=0.1, gamma=0.99, epsilon=0.2, lambd=0\n"
     ]
    },
    {
     "name": "stderr",
     "output_type": "stream",
     "text": [
      "100%|██████████| 1000000/1000000 [01:19<00:00, 12575.68it/s]\n",
      "Testing Games: 100%|██████████| 1000000/1000000 [01:07<00:00, 14855.14it/s]\n"
     ]
    },
    {
     "name": "stdout",
     "output_type": "stream",
     "text": [
      "Test Results for alpha=0.1, gamma=0.99, epsilon=0.2, lambd=0:\n",
      "Win rate: 43.47%\n",
      "Loss rate: 48.22%\n",
      "Tie rate: 8.31%\n",
      "Blackjack rate: 5.96%\n",
      "Total reward: -353710.0\n",
      "Average reward: -0.35371\n",
      "\n",
      "Training with alpha=0.1, gamma=0.99, epsilon=0.2, lambd=0.5\n"
     ]
    },
    {
     "name": "stderr",
     "output_type": "stream",
     "text": [
      "100%|██████████| 1000000/1000000 [01:19<00:00, 12650.41it/s]\n",
      "Testing Games: 100%|██████████| 1000000/1000000 [01:07<00:00, 14885.40it/s]\n"
     ]
    },
    {
     "name": "stdout",
     "output_type": "stream",
     "text": [
      "Test Results for alpha=0.1, gamma=0.99, epsilon=0.2, lambd=0.5:\n",
      "Win rate: 43.53%\n",
      "Loss rate: 48.62%\n",
      "Tie rate: 7.85%\n",
      "Blackjack rate: 5.95%\n",
      "Total reward: -422930.0\n",
      "Average reward: -0.42293\n",
      "\n",
      "Training with alpha=0.1, gamma=0.99, epsilon=0.2, lambd=0.7\n"
     ]
    },
    {
     "name": "stderr",
     "output_type": "stream",
     "text": [
      "100%|██████████| 1000000/1000000 [01:19<00:00, 12630.98it/s]\n",
      "Testing Games: 100%|██████████| 1000000/1000000 [01:07<00:00, 14786.33it/s]\n"
     ]
    },
    {
     "name": "stdout",
     "output_type": "stream",
     "text": [
      "Test Results for alpha=0.1, gamma=0.99, epsilon=0.2, lambd=0.7:\n",
      "Win rate: 43.35%\n",
      "Loss rate: 48.19%\n",
      "Tie rate: 8.46%\n",
      "Blackjack rate: 5.93%\n",
      "Total reward: -375700.0\n",
      "Average reward: -0.3757\n",
      "\n",
      "Training with alpha=0.1, gamma=0.99, epsilon=0.2, lambd=0.9\n"
     ]
    },
    {
     "name": "stderr",
     "output_type": "stream",
     "text": [
      "100%|██████████| 1000000/1000000 [01:19<00:00, 12613.39it/s]\n",
      "Testing Games: 100%|██████████| 1000000/1000000 [01:07<00:00, 14826.87it/s]\n"
     ]
    },
    {
     "name": "stdout",
     "output_type": "stream",
     "text": [
      "Test Results for alpha=0.1, gamma=0.99, epsilon=0.2, lambd=0.9:\n",
      "Win rate: 43.49%\n",
      "Loss rate: 48.51%\n",
      "Tie rate: 8.00%\n",
      "Blackjack rate: 5.91%\n",
      "Total reward: -412330.0\n",
      "Average reward: -0.41233\n",
      "\n",
      "Training with alpha=0.1, gamma=0.99, epsilon=0.2, lambd=1.0\n"
     ]
    },
    {
     "name": "stderr",
     "output_type": "stream",
     "text": [
      "100%|██████████| 1000000/1000000 [01:18<00:00, 12661.90it/s]\n",
      "Testing Games: 100%|██████████| 1000000/1000000 [01:07<00:00, 14818.55it/s]\n"
     ]
    },
    {
     "name": "stdout",
     "output_type": "stream",
     "text": [
      "Test Results for alpha=0.1, gamma=0.99, epsilon=0.2, lambd=1.0:\n",
      "Win rate: 43.48%\n",
      "Loss rate: 48.32%\n",
      "Tie rate: 8.21%\n",
      "Blackjack rate: 5.94%\n",
      "Total reward: -374260.0\n",
      "Average reward: -0.37426\n",
      "\n",
      "Training with alpha=0.1, gamma=0.99, epsilon=0.1, lambd=0\n"
     ]
    },
    {
     "name": "stderr",
     "output_type": "stream",
     "text": [
      "100%|██████████| 1000000/1000000 [01:19<00:00, 12507.18it/s]\n",
      "Testing Games: 100%|██████████| 1000000/1000000 [01:07<00:00, 14737.28it/s]\n"
     ]
    },
    {
     "name": "stdout",
     "output_type": "stream",
     "text": [
      "Test Results for alpha=0.1, gamma=0.99, epsilon=0.1, lambd=0:\n",
      "Win rate: 43.25%\n",
      "Loss rate: 48.32%\n",
      "Tie rate: 8.43%\n",
      "Blackjack rate: 5.95%\n",
      "Total reward: -420800.0\n",
      "Average reward: -0.4208\n",
      "\n",
      "Training with alpha=0.1, gamma=0.99, epsilon=0.1, lambd=0.5\n"
     ]
    },
    {
     "name": "stderr",
     "output_type": "stream",
     "text": [
      "100%|██████████| 1000000/1000000 [01:19<00:00, 12543.45it/s]\n",
      "Testing Games: 100%|██████████| 1000000/1000000 [01:07<00:00, 14771.43it/s]\n"
     ]
    },
    {
     "name": "stdout",
     "output_type": "stream",
     "text": [
      "Test Results for alpha=0.1, gamma=0.99, epsilon=0.1, lambd=0.5:\n",
      "Win rate: 43.15%\n",
      "Loss rate: 48.24%\n",
      "Tie rate: 8.61%\n",
      "Blackjack rate: 5.95%\n",
      "Total reward: -423170.0\n",
      "Average reward: -0.42317\n",
      "\n",
      "Training with alpha=0.1, gamma=0.99, epsilon=0.1, lambd=0.7\n"
     ]
    },
    {
     "name": "stderr",
     "output_type": "stream",
     "text": [
      "100%|██████████| 1000000/1000000 [01:19<00:00, 12546.65it/s]\n",
      "Testing Games: 100%|██████████| 1000000/1000000 [01:07<00:00, 14788.57it/s]\n"
     ]
    },
    {
     "name": "stdout",
     "output_type": "stream",
     "text": [
      "Test Results for alpha=0.1, gamma=0.99, epsilon=0.1, lambd=0.7:\n",
      "Win rate: 43.34%\n",
      "Loss rate: 48.34%\n",
      "Tie rate: 8.32%\n",
      "Blackjack rate: 5.96%\n",
      "Total reward: -406060.0\n",
      "Average reward: -0.40606\n",
      "\n",
      "Training with alpha=0.1, gamma=0.99, epsilon=0.1, lambd=0.9\n"
     ]
    },
    {
     "name": "stderr",
     "output_type": "stream",
     "text": [
      "100%|██████████| 1000000/1000000 [01:18<00:00, 12667.12it/s]\n",
      "Testing Games: 100%|██████████| 1000000/1000000 [01:07<00:00, 14865.43it/s]\n"
     ]
    },
    {
     "name": "stdout",
     "output_type": "stream",
     "text": [
      "Test Results for alpha=0.1, gamma=0.99, epsilon=0.1, lambd=0.9:\n",
      "Win rate: 43.60%\n",
      "Loss rate: 48.56%\n",
      "Tie rate: 7.84%\n",
      "Blackjack rate: 5.91%\n",
      "Total reward: -399680.0\n",
      "Average reward: -0.39968\n",
      "\n",
      "Training with alpha=0.1, gamma=0.99, epsilon=0.1, lambd=1.0\n"
     ]
    },
    {
     "name": "stderr",
     "output_type": "stream",
     "text": [
      "100%|██████████| 1000000/1000000 [01:19<00:00, 12644.96it/s]\n",
      "Testing Games: 100%|██████████| 1000000/1000000 [01:07<00:00, 14823.54it/s]\n"
     ]
    },
    {
     "name": "stdout",
     "output_type": "stream",
     "text": [
      "Test Results for alpha=0.1, gamma=0.99, epsilon=0.1, lambd=1.0:\n",
      "Win rate: 43.30%\n",
      "Loss rate: 48.37%\n",
      "Tie rate: 8.32%\n",
      "Blackjack rate: 5.94%\n",
      "Total reward: -419550.0\n",
      "Average reward: -0.41955\n",
      "\n",
      "Training with alpha=0.1, gamma=0.99, epsilon=0.05, lambd=0\n"
     ]
    },
    {
     "name": "stderr",
     "output_type": "stream",
     "text": [
      "100%|██████████| 1000000/1000000 [01:20<00:00, 12486.55it/s]\n",
      "Testing Games: 100%|██████████| 1000000/1000000 [01:07<00:00, 14749.42it/s]\n"
     ]
    },
    {
     "name": "stdout",
     "output_type": "stream",
     "text": [
      "Test Results for alpha=0.1, gamma=0.99, epsilon=0.05, lambd=0:\n",
      "Win rate: 43.26%\n",
      "Loss rate: 48.41%\n",
      "Tie rate: 8.33%\n",
      "Blackjack rate: 5.98%\n",
      "Total reward: -433860.0\n",
      "Average reward: -0.43386\n",
      "\n",
      "Training with alpha=0.1, gamma=0.99, epsilon=0.05, lambd=0.5\n"
     ]
    },
    {
     "name": "stderr",
     "output_type": "stream",
     "text": [
      "100%|██████████| 1000000/1000000 [01:19<00:00, 12528.60it/s]\n",
      "Testing Games: 100%|██████████| 1000000/1000000 [01:07<00:00, 14780.61it/s]\n"
     ]
    },
    {
     "name": "stdout",
     "output_type": "stream",
     "text": [
      "Test Results for alpha=0.1, gamma=0.99, epsilon=0.05, lambd=0.5:\n",
      "Win rate: 43.23%\n",
      "Loss rate: 48.34%\n",
      "Tie rate: 8.43%\n",
      "Blackjack rate: 5.92%\n",
      "Total reward: -428710.0\n",
      "Average reward: -0.42871\n",
      "\n",
      "Training with alpha=0.1, gamma=0.99, epsilon=0.05, lambd=0.7\n"
     ]
    },
    {
     "name": "stderr",
     "output_type": "stream",
     "text": [
      "100%|██████████| 1000000/1000000 [01:19<00:00, 12575.11it/s]\n",
      "Testing Games: 100%|██████████| 1000000/1000000 [01:07<00:00, 14783.11it/s]\n"
     ]
    },
    {
     "name": "stdout",
     "output_type": "stream",
     "text": [
      "Test Results for alpha=0.1, gamma=0.99, epsilon=0.05, lambd=0.7:\n",
      "Win rate: 43.33%\n",
      "Loss rate: 48.51%\n",
      "Tie rate: 8.16%\n",
      "Blackjack rate: 5.93%\n",
      "Total reward: -442650.0\n",
      "Average reward: -0.44265\n",
      "\n",
      "Training with alpha=0.1, gamma=0.99, epsilon=0.05, lambd=0.9\n"
     ]
    },
    {
     "name": "stderr",
     "output_type": "stream",
     "text": [
      "100%|██████████| 1000000/1000000 [01:19<00:00, 12589.91it/s]\n",
      "Testing Games: 100%|██████████| 1000000/1000000 [01:07<00:00, 14828.82it/s]\n"
     ]
    },
    {
     "name": "stdout",
     "output_type": "stream",
     "text": [
      "Test Results for alpha=0.1, gamma=0.99, epsilon=0.05, lambd=0.9:\n",
      "Win rate: 43.50%\n",
      "Loss rate: 48.57%\n",
      "Tie rate: 7.93%\n",
      "Blackjack rate: 5.92%\n",
      "Total reward: -422650.0\n",
      "Average reward: -0.42265\n",
      "\n",
      "Training with alpha=0.1, gamma=0.99, epsilon=0.05, lambd=1.0\n"
     ]
    },
    {
     "name": "stderr",
     "output_type": "stream",
     "text": [
      "100%|██████████| 1000000/1000000 [01:19<00:00, 12652.40it/s]\n",
      "Testing Games: 100%|██████████| 1000000/1000000 [01:07<00:00, 14834.56it/s]\n"
     ]
    },
    {
     "name": "stdout",
     "output_type": "stream",
     "text": [
      "Test Results for alpha=0.1, gamma=0.99, epsilon=0.05, lambd=1.0:\n",
      "Win rate: 43.36%\n",
      "Loss rate: 48.26%\n",
      "Tie rate: 8.38%\n",
      "Blackjack rate: 5.92%\n",
      "Total reward: -386230.0\n",
      "Average reward: -0.38623\n",
      "\n",
      "Training with alpha=0.05, gamma=0.9, epsilon=0.2, lambd=0\n"
     ]
    },
    {
     "name": "stderr",
     "output_type": "stream",
     "text": [
      "100%|██████████| 1000000/1000000 [01:19<00:00, 12533.22it/s]\n",
      "Testing Games: 100%|██████████| 1000000/1000000 [01:08<00:00, 14702.01it/s]\n"
     ]
    },
    {
     "name": "stdout",
     "output_type": "stream",
     "text": [
      "Test Results for alpha=0.05, gamma=0.9, epsilon=0.2, lambd=0:\n",
      "Win rate: 43.19%\n",
      "Loss rate: 48.18%\n",
      "Tie rate: 8.63%\n",
      "Blackjack rate: 5.92%\n",
      "Total reward: -405110.0\n",
      "Average reward: -0.40511\n",
      "\n",
      "Training with alpha=0.05, gamma=0.9, epsilon=0.2, lambd=0.5\n"
     ]
    },
    {
     "name": "stderr",
     "output_type": "stream",
     "text": [
      "100%|██████████| 1000000/1000000 [01:19<00:00, 12558.88it/s]\n",
      "Testing Games: 100%|██████████| 1000000/1000000 [01:07<00:00, 14790.40it/s]\n"
     ]
    },
    {
     "name": "stdout",
     "output_type": "stream",
     "text": [
      "Test Results for alpha=0.05, gamma=0.9, epsilon=0.2, lambd=0.5:\n",
      "Win rate: 43.50%\n",
      "Loss rate: 48.16%\n",
      "Tie rate: 8.34%\n",
      "Blackjack rate: 5.93%\n",
      "Total reward: -339070.0\n",
      "Average reward: -0.33907\n",
      "\n",
      "Training with alpha=0.05, gamma=0.9, epsilon=0.2, lambd=0.7\n"
     ]
    },
    {
     "name": "stderr",
     "output_type": "stream",
     "text": [
      "100%|██████████| 1000000/1000000 [01:19<00:00, 12610.24it/s]\n",
      "Testing Games: 100%|██████████| 1000000/1000000 [01:07<00:00, 14784.11it/s]\n"
     ]
    },
    {
     "name": "stdout",
     "output_type": "stream",
     "text": [
      "Test Results for alpha=0.05, gamma=0.9, epsilon=0.2, lambd=0.7:\n",
      "Win rate: 43.52%\n",
      "Loss rate: 48.26%\n",
      "Tie rate: 8.22%\n",
      "Blackjack rate: 5.93%\n",
      "Total reward: -355470.0\n",
      "Average reward: -0.35547\n",
      "\n",
      "Training with alpha=0.05, gamma=0.9, epsilon=0.2, lambd=0.9\n"
     ]
    },
    {
     "name": "stderr",
     "output_type": "stream",
     "text": [
      "100%|██████████| 1000000/1000000 [01:19<00:00, 12621.30it/s]\n",
      "Testing Games: 100%|██████████| 1000000/1000000 [01:07<00:00, 14769.36it/s]\n"
     ]
    },
    {
     "name": "stdout",
     "output_type": "stream",
     "text": [
      "Test Results for alpha=0.05, gamma=0.9, epsilon=0.2, lambd=0.9:\n",
      "Win rate: 43.51%\n",
      "Loss rate: 48.09%\n",
      "Tie rate: 8.40%\n",
      "Blackjack rate: 5.93%\n",
      "Total reward: -321600.0\n",
      "Average reward: -0.3216\n",
      "\n",
      "Training with alpha=0.05, gamma=0.9, epsilon=0.2, lambd=1.0\n"
     ]
    },
    {
     "name": "stderr",
     "output_type": "stream",
     "text": [
      "100%|██████████| 1000000/1000000 [01:19<00:00, 12604.55it/s]\n",
      "Testing Games: 100%|██████████| 1000000/1000000 [01:07<00:00, 14793.72it/s]\n"
     ]
    },
    {
     "name": "stdout",
     "output_type": "stream",
     "text": [
      "Test Results for alpha=0.05, gamma=0.9, epsilon=0.2, lambd=1.0:\n",
      "Win rate: 43.74%\n",
      "Loss rate: 48.21%\n",
      "Tie rate: 8.05%\n",
      "Blackjack rate: 5.96%\n",
      "Total reward: -299060.0\n",
      "Average reward: -0.29906\n",
      "\n",
      "Training with alpha=0.05, gamma=0.9, epsilon=0.1, lambd=0\n"
     ]
    },
    {
     "name": "stderr",
     "output_type": "stream",
     "text": [
      "100%|██████████| 1000000/1000000 [01:19<00:00, 12521.98it/s]\n",
      "Testing Games: 100%|██████████| 1000000/1000000 [01:07<00:00, 14791.95it/s]\n"
     ]
    },
    {
     "name": "stdout",
     "output_type": "stream",
     "text": [
      "Test Results for alpha=0.05, gamma=0.9, epsilon=0.1, lambd=0:\n",
      "Win rate: 43.23%\n",
      "Loss rate: 48.19%\n",
      "Tie rate: 8.58%\n",
      "Blackjack rate: 5.93%\n",
      "Total reward: -398690.0\n",
      "Average reward: -0.39869\n",
      "\n",
      "Training with alpha=0.05, gamma=0.9, epsilon=0.1, lambd=0.5\n"
     ]
    },
    {
     "name": "stderr",
     "output_type": "stream",
     "text": [
      "100%|██████████| 1000000/1000000 [01:19<00:00, 12549.16it/s]\n",
      "Testing Games: 100%|██████████| 1000000/1000000 [01:07<00:00, 14733.09it/s]\n"
     ]
    },
    {
     "name": "stdout",
     "output_type": "stream",
     "text": [
      "Test Results for alpha=0.05, gamma=0.9, epsilon=0.1, lambd=0.5:\n",
      "Win rate: 43.17%\n",
      "Loss rate: 48.21%\n",
      "Tie rate: 8.62%\n",
      "Blackjack rate: 5.95%\n",
      "Total reward: -412570.0\n",
      "Average reward: -0.41257\n",
      "\n",
      "Training with alpha=0.05, gamma=0.9, epsilon=0.1, lambd=0.7\n"
     ]
    },
    {
     "name": "stderr",
     "output_type": "stream",
     "text": [
      "100%|██████████| 1000000/1000000 [01:19<00:00, 12546.43it/s]\n",
      "Testing Games: 100%|██████████| 1000000/1000000 [01:07<00:00, 14749.06it/s]\n"
     ]
    },
    {
     "name": "stdout",
     "output_type": "stream",
     "text": [
      "Test Results for alpha=0.05, gamma=0.9, epsilon=0.1, lambd=0.7:\n",
      "Win rate: 43.46%\n",
      "Loss rate: 48.23%\n",
      "Tie rate: 8.31%\n",
      "Blackjack rate: 5.96%\n",
      "Total reward: -358250.0\n",
      "Average reward: -0.35825\n",
      "\n",
      "Training with alpha=0.05, gamma=0.9, epsilon=0.1, lambd=0.9\n"
     ]
    },
    {
     "name": "stderr",
     "output_type": "stream",
     "text": [
      "100%|██████████| 1000000/1000000 [01:19<00:00, 12573.08it/s]\n",
      "Testing Games: 100%|██████████| 1000000/1000000 [01:07<00:00, 14847.18it/s]\n"
     ]
    },
    {
     "name": "stdout",
     "output_type": "stream",
     "text": [
      "Test Results for alpha=0.05, gamma=0.9, epsilon=0.1, lambd=0.9:\n",
      "Win rate: 43.56%\n",
      "Loss rate: 48.34%\n",
      "Tie rate: 8.11%\n",
      "Blackjack rate: 5.95%\n",
      "Total reward: -360460.0\n",
      "Average reward: -0.36046\n",
      "\n",
      "Training with alpha=0.05, gamma=0.9, epsilon=0.1, lambd=1.0\n"
     ]
    },
    {
     "name": "stderr",
     "output_type": "stream",
     "text": [
      "100%|██████████| 1000000/1000000 [01:19<00:00, 12586.84it/s]\n",
      "Testing Games: 100%|██████████| 1000000/1000000 [01:07<00:00, 14801.17it/s]\n"
     ]
    },
    {
     "name": "stdout",
     "output_type": "stream",
     "text": [
      "Test Results for alpha=0.05, gamma=0.9, epsilon=0.1, lambd=1.0:\n",
      "Win rate: 43.47%\n",
      "Loss rate: 48.11%\n",
      "Tie rate: 8.42%\n",
      "Blackjack rate: 5.98%\n",
      "Total reward: -331600.0\n",
      "Average reward: -0.3316\n",
      "\n",
      "Training with alpha=0.05, gamma=0.9, epsilon=0.05, lambd=0\n"
     ]
    },
    {
     "name": "stderr",
     "output_type": "stream",
     "text": [
      "100%|██████████| 1000000/1000000 [01:19<00:00, 12502.63it/s]\n",
      "Testing Games: 100%|██████████| 1000000/1000000 [01:07<00:00, 14742.43it/s]\n"
     ]
    },
    {
     "name": "stdout",
     "output_type": "stream",
     "text": [
      "Test Results for alpha=0.05, gamma=0.9, epsilon=0.05, lambd=0:\n",
      "Win rate: 43.24%\n",
      "Loss rate: 48.23%\n",
      "Tie rate: 8.54%\n",
      "Blackjack rate: 5.94%\n",
      "Total reward: -405090.0\n",
      "Average reward: -0.40509\n",
      "\n",
      "Training with alpha=0.05, gamma=0.9, epsilon=0.05, lambd=0.5\n"
     ]
    },
    {
     "name": "stderr",
     "output_type": "stream",
     "text": [
      "100%|██████████| 1000000/1000000 [01:20<00:00, 12483.15it/s]\n",
      "Testing Games: 100%|██████████| 1000000/1000000 [01:07<00:00, 14779.26it/s]\n"
     ]
    },
    {
     "name": "stdout",
     "output_type": "stream",
     "text": [
      "Test Results for alpha=0.05, gamma=0.9, epsilon=0.05, lambd=0.5:\n",
      "Win rate: 43.29%\n",
      "Loss rate: 48.17%\n",
      "Tie rate: 8.55%\n",
      "Blackjack rate: 5.95%\n",
      "Total reward: -380870.0\n",
      "Average reward: -0.38087\n",
      "\n",
      "Training with alpha=0.05, gamma=0.9, epsilon=0.05, lambd=0.7\n"
     ]
    },
    {
     "name": "stderr",
     "output_type": "stream",
     "text": [
      "100%|██████████| 1000000/1000000 [01:19<00:00, 12554.91it/s]\n",
      "Testing Games: 100%|██████████| 1000000/1000000 [01:07<00:00, 14751.65it/s]\n"
     ]
    },
    {
     "name": "stdout",
     "output_type": "stream",
     "text": [
      "Test Results for alpha=0.05, gamma=0.9, epsilon=0.05, lambd=0.7:\n",
      "Win rate: 43.10%\n",
      "Loss rate: 48.18%\n",
      "Tie rate: 8.72%\n",
      "Blackjack rate: 5.92%\n",
      "Total reward: -424270.0\n",
      "Average reward: -0.42427\n",
      "\n",
      "Training with alpha=0.05, gamma=0.9, epsilon=0.05, lambd=0.9\n"
     ]
    },
    {
     "name": "stderr",
     "output_type": "stream",
     "text": [
      "100%|██████████| 1000000/1000000 [01:19<00:00, 12577.93it/s]\n",
      "Testing Games: 100%|██████████| 1000000/1000000 [01:07<00:00, 14875.82it/s]\n"
     ]
    },
    {
     "name": "stdout",
     "output_type": "stream",
     "text": [
      "Test Results for alpha=0.05, gamma=0.9, epsilon=0.05, lambd=0.9:\n",
      "Win rate: 43.51%\n",
      "Loss rate: 48.23%\n",
      "Tie rate: 8.26%\n",
      "Blackjack rate: 5.96%\n",
      "Total reward: -348570.0\n",
      "Average reward: -0.34857\n",
      "\n",
      "Training with alpha=0.05, gamma=0.9, epsilon=0.05, lambd=1.0\n"
     ]
    },
    {
     "name": "stderr",
     "output_type": "stream",
     "text": [
      "100%|██████████| 1000000/1000000 [01:19<00:00, 12652.69it/s]\n",
      "Testing Games: 100%|██████████| 1000000/1000000 [01:07<00:00, 14817.63it/s]\n"
     ]
    },
    {
     "name": "stdout",
     "output_type": "stream",
     "text": [
      "Test Results for alpha=0.05, gamma=0.9, epsilon=0.05, lambd=1.0:\n",
      "Win rate: 43.58%\n",
      "Loss rate: 48.20%\n",
      "Tie rate: 8.21%\n",
      "Blackjack rate: 5.95%\n",
      "Total reward: -329170.0\n",
      "Average reward: -0.32917\n",
      "\n",
      "Training with alpha=0.05, gamma=0.95, epsilon=0.2, lambd=0\n"
     ]
    },
    {
     "name": "stderr",
     "output_type": "stream",
     "text": [
      "100%|██████████| 1000000/1000000 [01:19<00:00, 12565.03it/s]\n",
      "Testing Games: 100%|██████████| 1000000/1000000 [01:07<00:00, 14802.29it/s]\n"
     ]
    },
    {
     "name": "stdout",
     "output_type": "stream",
     "text": [
      "Test Results for alpha=0.05, gamma=0.95, epsilon=0.2, lambd=0:\n",
      "Win rate: 43.47%\n",
      "Loss rate: 48.17%\n",
      "Tie rate: 8.35%\n",
      "Blackjack rate: 5.95%\n",
      "Total reward: -344860.0\n",
      "Average reward: -0.34486\n",
      "\n",
      "Training with alpha=0.05, gamma=0.95, epsilon=0.2, lambd=0.5\n"
     ]
    },
    {
     "name": "stderr",
     "output_type": "stream",
     "text": [
      "100%|██████████| 1000000/1000000 [01:19<00:00, 12592.48it/s]\n",
      "Testing Games: 100%|██████████| 1000000/1000000 [01:07<00:00, 14793.72it/s]\n"
     ]
    },
    {
     "name": "stdout",
     "output_type": "stream",
     "text": [
      "Test Results for alpha=0.05, gamma=0.95, epsilon=0.2, lambd=0.5:\n",
      "Win rate: 43.33%\n",
      "Loss rate: 48.09%\n",
      "Tie rate: 8.58%\n",
      "Blackjack rate: 5.92%\n",
      "Total reward: -359690.0\n",
      "Average reward: -0.35969\n",
      "\n",
      "Training with alpha=0.05, gamma=0.95, epsilon=0.2, lambd=0.7\n"
     ]
    },
    {
     "name": "stderr",
     "output_type": "stream",
     "text": [
      "100%|██████████| 1000000/1000000 [01:19<00:00, 12619.30it/s]\n",
      "Testing Games: 100%|██████████| 1000000/1000000 [01:07<00:00, 14827.31it/s]\n"
     ]
    },
    {
     "name": "stdout",
     "output_type": "stream",
     "text": [
      "Test Results for alpha=0.05, gamma=0.95, epsilon=0.2, lambd=0.7:\n",
      "Win rate: 43.73%\n",
      "Loss rate: 48.39%\n",
      "Tie rate: 7.88%\n",
      "Blackjack rate: 5.94%\n",
      "Total reward: -337490.0\n",
      "Average reward: -0.33749\n",
      "\n",
      "Training with alpha=0.05, gamma=0.95, epsilon=0.2, lambd=0.9\n"
     ]
    },
    {
     "name": "stderr",
     "output_type": "stream",
     "text": [
      "100%|██████████| 1000000/1000000 [01:19<00:00, 12632.13it/s]\n",
      "Testing Games: 100%|██████████| 1000000/1000000 [01:07<00:00, 14819.74it/s]\n"
     ]
    },
    {
     "name": "stdout",
     "output_type": "stream",
     "text": [
      "Test Results for alpha=0.05, gamma=0.95, epsilon=0.2, lambd=0.9:\n",
      "Win rate: 43.62%\n",
      "Loss rate: 48.39%\n",
      "Tie rate: 8.00%\n",
      "Blackjack rate: 5.96%\n",
      "Total reward: -358860.0\n",
      "Average reward: -0.35886\n",
      "\n",
      "Training with alpha=0.05, gamma=0.95, epsilon=0.2, lambd=1.0\n"
     ]
    },
    {
     "name": "stderr",
     "output_type": "stream",
     "text": [
      "100%|██████████| 1000000/1000000 [01:19<00:00, 12654.11it/s]\n",
      "Testing Games: 100%|██████████| 1000000/1000000 [01:07<00:00, 14834.24it/s]\n"
     ]
    },
    {
     "name": "stdout",
     "output_type": "stream",
     "text": [
      "Test Results for alpha=0.05, gamma=0.95, epsilon=0.2, lambd=1.0:\n",
      "Win rate: 43.67%\n",
      "Loss rate: 48.53%\n",
      "Tie rate: 7.80%\n",
      "Blackjack rate: 5.91%\n",
      "Total reward: -380110.0\n",
      "Average reward: -0.38011\n",
      "\n",
      "Training with alpha=0.05, gamma=0.95, epsilon=0.1, lambd=0\n"
     ]
    },
    {
     "name": "stderr",
     "output_type": "stream",
     "text": [
      "100%|██████████| 1000000/1000000 [01:19<00:00, 12504.51it/s]\n",
      "Testing Games: 100%|██████████| 1000000/1000000 [01:07<00:00, 14732.21it/s]\n"
     ]
    },
    {
     "name": "stdout",
     "output_type": "stream",
     "text": [
      "Test Results for alpha=0.05, gamma=0.95, epsilon=0.1, lambd=0:\n",
      "Win rate: 43.52%\n",
      "Loss rate: 48.20%\n",
      "Tie rate: 8.28%\n",
      "Blackjack rate: 5.98%\n",
      "Total reward: -336370.0\n",
      "Average reward: -0.33637\n",
      "\n",
      "Training with alpha=0.05, gamma=0.95, epsilon=0.1, lambd=0.5\n"
     ]
    },
    {
     "name": "stderr",
     "output_type": "stream",
     "text": [
      "100%|██████████| 1000000/1000000 [01:19<00:00, 12517.03it/s]\n",
      "Testing Games: 100%|██████████| 1000000/1000000 [01:07<00:00, 14717.02it/s]\n"
     ]
    },
    {
     "name": "stdout",
     "output_type": "stream",
     "text": [
      "Test Results for alpha=0.05, gamma=0.95, epsilon=0.1, lambd=0.5:\n",
      "Win rate: 43.38%\n",
      "Loss rate: 48.19%\n",
      "Tie rate: 8.43%\n",
      "Blackjack rate: 5.95%\n",
      "Total reward: -367490.0\n",
      "Average reward: -0.36749\n",
      "\n",
      "Training with alpha=0.05, gamma=0.95, epsilon=0.1, lambd=0.7\n"
     ]
    },
    {
     "name": "stderr",
     "output_type": "stream",
     "text": [
      "100%|██████████| 1000000/1000000 [01:19<00:00, 12542.85it/s]\n",
      "Testing Games: 100%|██████████| 1000000/1000000 [01:07<00:00, 14759.98it/s]\n"
     ]
    },
    {
     "name": "stdout",
     "output_type": "stream",
     "text": [
      "Test Results for alpha=0.05, gamma=0.95, epsilon=0.1, lambd=0.7:\n",
      "Win rate: 43.63%\n",
      "Loss rate: 48.34%\n",
      "Tie rate: 8.03%\n",
      "Blackjack rate: 5.96%\n",
      "Total reward: -344490.0\n",
      "Average reward: -0.34449\n",
      "\n",
      "Training with alpha=0.05, gamma=0.95, epsilon=0.1, lambd=0.9\n"
     ]
    },
    {
     "name": "stderr",
     "output_type": "stream",
     "text": [
      "100%|██████████| 1000000/1000000 [01:19<00:00, 12576.00it/s]\n",
      "Testing Games: 100%|██████████| 1000000/1000000 [01:07<00:00, 14765.31it/s]\n"
     ]
    },
    {
     "name": "stdout",
     "output_type": "stream",
     "text": [
      "Test Results for alpha=0.05, gamma=0.95, epsilon=0.1, lambd=0.9:\n",
      "Win rate: 43.45%\n",
      "Loss rate: 48.15%\n",
      "Tie rate: 8.40%\n",
      "Blackjack rate: 5.96%\n",
      "Total reward: -344700.0\n",
      "Average reward: -0.3447\n",
      "\n",
      "Training with alpha=0.05, gamma=0.95, epsilon=0.1, lambd=1.0\n"
     ]
    },
    {
     "name": "stderr",
     "output_type": "stream",
     "text": [
      "100%|██████████| 1000000/1000000 [01:19<00:00, 12611.00it/s]\n",
      "Testing Games: 100%|██████████| 1000000/1000000 [01:07<00:00, 14784.16it/s]\n"
     ]
    },
    {
     "name": "stdout",
     "output_type": "stream",
     "text": [
      "Test Results for alpha=0.05, gamma=0.95, epsilon=0.1, lambd=1.0:\n",
      "Win rate: 43.61%\n",
      "Loss rate: 48.33%\n",
      "Tie rate: 8.05%\n",
      "Blackjack rate: 5.95%\n",
      "Total reward: -348410.0\n",
      "Average reward: -0.34841\n",
      "\n",
      "Training with alpha=0.05, gamma=0.95, epsilon=0.05, lambd=0\n"
     ]
    },
    {
     "name": "stderr",
     "output_type": "stream",
     "text": [
      "100%|██████████| 1000000/1000000 [01:20<00:00, 12460.23it/s]\n",
      "Testing Games: 100%|██████████| 1000000/1000000 [01:07<00:00, 14788.49it/s]\n"
     ]
    },
    {
     "name": "stdout",
     "output_type": "stream",
     "text": [
      "Test Results for alpha=0.05, gamma=0.95, epsilon=0.05, lambd=0:\n",
      "Win rate: 43.10%\n",
      "Loss rate: 48.30%\n",
      "Tie rate: 8.60%\n",
      "Blackjack rate: 5.95%\n",
      "Total reward: -445380.0\n",
      "Average reward: -0.44538\n",
      "\n",
      "Training with alpha=0.05, gamma=0.95, epsilon=0.05, lambd=0.5\n"
     ]
    },
    {
     "name": "stderr",
     "output_type": "stream",
     "text": [
      "100%|██████████| 1000000/1000000 [01:20<00:00, 12481.28it/s]\n",
      "Testing Games: 100%|██████████| 1000000/1000000 [01:07<00:00, 14735.49it/s]\n"
     ]
    },
    {
     "name": "stdout",
     "output_type": "stream",
     "text": [
      "Test Results for alpha=0.05, gamma=0.95, epsilon=0.05, lambd=0.5:\n",
      "Win rate: 43.16%\n",
      "Loss rate: 48.25%\n",
      "Tie rate: 8.59%\n",
      "Blackjack rate: 5.90%\n",
      "Total reward: -428610.0\n",
      "Average reward: -0.42861\n",
      "\n",
      "Training with alpha=0.05, gamma=0.95, epsilon=0.05, lambd=0.7\n"
     ]
    },
    {
     "name": "stderr",
     "output_type": "stream",
     "text": [
      "100%|██████████| 1000000/1000000 [01:19<00:00, 12535.98it/s]\n",
      "Testing Games: 100%|██████████| 1000000/1000000 [01:07<00:00, 14754.79it/s]\n"
     ]
    },
    {
     "name": "stdout",
     "output_type": "stream",
     "text": [
      "Test Results for alpha=0.05, gamma=0.95, epsilon=0.05, lambd=0.7:\n",
      "Win rate: 43.53%\n",
      "Loss rate: 48.39%\n",
      "Tie rate: 8.07%\n",
      "Blackjack rate: 5.94%\n",
      "Total reward: -377810.0\n",
      "Average reward: -0.37781\n",
      "\n",
      "Training with alpha=0.05, gamma=0.95, epsilon=0.05, lambd=0.9\n"
     ]
    },
    {
     "name": "stderr",
     "output_type": "stream",
     "text": [
      "100%|██████████| 1000000/1000000 [01:19<00:00, 12569.89it/s]\n",
      "Testing Games: 100%|██████████| 1000000/1000000 [01:08<00:00, 14695.23it/s]\n"
     ]
    },
    {
     "name": "stdout",
     "output_type": "stream",
     "text": [
      "Test Results for alpha=0.05, gamma=0.95, epsilon=0.05, lambd=0.9:\n",
      "Win rate: 43.45%\n",
      "Loss rate: 48.12%\n",
      "Tie rate: 8.43%\n",
      "Blackjack rate: 5.95%\n",
      "Total reward: -338670.0\n",
      "Average reward: -0.33867\n",
      "\n",
      "Training with alpha=0.05, gamma=0.95, epsilon=0.05, lambd=1.0\n"
     ]
    },
    {
     "name": "stderr",
     "output_type": "stream",
     "text": [
      "100%|██████████| 1000000/1000000 [01:19<00:00, 12643.12it/s]\n",
      "Testing Games: 100%|██████████| 1000000/1000000 [01:07<00:00, 14841.55it/s]\n"
     ]
    },
    {
     "name": "stdout",
     "output_type": "stream",
     "text": [
      "Test Results for alpha=0.05, gamma=0.95, epsilon=0.05, lambd=1.0:\n",
      "Win rate: 43.72%\n",
      "Loss rate: 48.44%\n",
      "Tie rate: 7.84%\n",
      "Blackjack rate: 5.99%\n",
      "Total reward: -346910.0\n",
      "Average reward: -0.34691\n",
      "\n",
      "Training with alpha=0.05, gamma=0.99, epsilon=0.2, lambd=0\n"
     ]
    },
    {
     "name": "stderr",
     "output_type": "stream",
     "text": [
      "100%|██████████| 1000000/1000000 [01:19<00:00, 12570.98it/s]\n",
      "Testing Games: 100%|██████████| 1000000/1000000 [01:07<00:00, 14763.60it/s]\n"
     ]
    },
    {
     "name": "stdout",
     "output_type": "stream",
     "text": [
      "Test Results for alpha=0.05, gamma=0.99, epsilon=0.2, lambd=0:\n",
      "Win rate: 43.34%\n",
      "Loss rate: 48.17%\n",
      "Tie rate: 8.49%\n",
      "Blackjack rate: 5.94%\n",
      "Total reward: -371970.0\n",
      "Average reward: -0.37197\n",
      "\n",
      "Training with alpha=0.05, gamma=0.99, epsilon=0.2, lambd=0.5\n"
     ]
    },
    {
     "name": "stderr",
     "output_type": "stream",
     "text": [
      "100%|██████████| 1000000/1000000 [01:19<00:00, 12570.88it/s]\n",
      "Testing Games: 100%|██████████| 1000000/1000000 [01:07<00:00, 14750.11it/s]\n"
     ]
    },
    {
     "name": "stdout",
     "output_type": "stream",
     "text": [
      "Test Results for alpha=0.05, gamma=0.99, epsilon=0.2, lambd=0.5:\n",
      "Win rate: 43.37%\n",
      "Loss rate: 48.31%\n",
      "Tie rate: 8.32%\n",
      "Blackjack rate: 5.95%\n",
      "Total reward: -392540.0\n",
      "Average reward: -0.39254\n",
      "\n",
      "Training with alpha=0.05, gamma=0.99, epsilon=0.2, lambd=0.7\n"
     ]
    },
    {
     "name": "stderr",
     "output_type": "stream",
     "text": [
      "100%|██████████| 1000000/1000000 [01:19<00:00, 12608.24it/s]\n",
      "Testing Games: 100%|██████████| 1000000/1000000 [01:07<00:00, 14716.28it/s]\n"
     ]
    },
    {
     "name": "stdout",
     "output_type": "stream",
     "text": [
      "Test Results for alpha=0.05, gamma=0.99, epsilon=0.2, lambd=0.7:\n",
      "Win rate: 43.46%\n",
      "Loss rate: 48.10%\n",
      "Tie rate: 8.44%\n",
      "Blackjack rate: 5.91%\n",
      "Total reward: -337500.0\n",
      "Average reward: -0.3375\n",
      "\n",
      "Training with alpha=0.05, gamma=0.99, epsilon=0.2, lambd=0.9\n"
     ]
    },
    {
     "name": "stderr",
     "output_type": "stream",
     "text": [
      "100%|██████████| 1000000/1000000 [01:19<00:00, 12622.95it/s]\n",
      "Testing Games: 100%|██████████| 1000000/1000000 [01:07<00:00, 14770.85it/s]\n"
     ]
    },
    {
     "name": "stdout",
     "output_type": "stream",
     "text": [
      "Test Results for alpha=0.05, gamma=0.99, epsilon=0.2, lambd=0.9:\n",
      "Win rate: 43.61%\n",
      "Loss rate: 48.40%\n",
      "Tie rate: 8.00%\n",
      "Blackjack rate: 5.94%\n",
      "Total reward: -363680.0\n",
      "Average reward: -0.36368\n",
      "\n",
      "Training with alpha=0.05, gamma=0.99, epsilon=0.2, lambd=1.0\n"
     ]
    },
    {
     "name": "stderr",
     "output_type": "stream",
     "text": [
      "100%|██████████| 1000000/1000000 [01:18<00:00, 12679.57it/s]\n",
      "Testing Games: 100%|██████████| 1000000/1000000 [01:07<00:00, 14803.71it/s]\n"
     ]
    },
    {
     "name": "stdout",
     "output_type": "stream",
     "text": [
      "Test Results for alpha=0.05, gamma=0.99, epsilon=0.2, lambd=1.0:\n",
      "Win rate: 43.62%\n",
      "Loss rate: 48.43%\n",
      "Tie rate: 7.95%\n",
      "Blackjack rate: 5.92%\n",
      "Total reward: -371130.0\n",
      "Average reward: -0.37113\n",
      "\n",
      "Training with alpha=0.05, gamma=0.99, epsilon=0.1, lambd=0\n"
     ]
    },
    {
     "name": "stderr",
     "output_type": "stream",
     "text": [
      "100%|██████████| 1000000/1000000 [01:19<00:00, 12540.74it/s]\n",
      "Testing Games: 100%|██████████| 1000000/1000000 [01:07<00:00, 14758.45it/s]\n"
     ]
    },
    {
     "name": "stdout",
     "output_type": "stream",
     "text": [
      "Test Results for alpha=0.05, gamma=0.99, epsilon=0.1, lambd=0:\n",
      "Win rate: 43.39%\n",
      "Loss rate: 48.36%\n",
      "Tie rate: 8.25%\n",
      "Blackjack rate: 5.92%\n",
      "Total reward: -402980.0\n",
      "Average reward: -0.40298\n",
      "\n",
      "Training with alpha=0.05, gamma=0.99, epsilon=0.1, lambd=0.5\n"
     ]
    },
    {
     "name": "stderr",
     "output_type": "stream",
     "text": [
      "100%|██████████| 1000000/1000000 [01:19<00:00, 12529.67it/s]\n",
      "Testing Games: 100%|██████████| 1000000/1000000 [01:07<00:00, 14737.82it/s]\n"
     ]
    },
    {
     "name": "stdout",
     "output_type": "stream",
     "text": [
      "Test Results for alpha=0.05, gamma=0.99, epsilon=0.1, lambd=0.5:\n",
      "Win rate: 43.20%\n",
      "Loss rate: 48.17%\n",
      "Tie rate: 8.63%\n",
      "Blackjack rate: 5.95%\n",
      "Total reward: -400190.0\n",
      "Average reward: -0.40019\n",
      "\n",
      "Training with alpha=0.05, gamma=0.99, epsilon=0.1, lambd=0.7\n"
     ]
    },
    {
     "name": "stderr",
     "output_type": "stream",
     "text": [
      "100%|██████████| 1000000/1000000 [01:19<00:00, 12574.26it/s]\n",
      "Testing Games: 100%|██████████| 1000000/1000000 [01:07<00:00, 14786.01it/s]\n"
     ]
    },
    {
     "name": "stdout",
     "output_type": "stream",
     "text": [
      "Test Results for alpha=0.05, gamma=0.99, epsilon=0.1, lambd=0.7:\n",
      "Win rate: 43.56%\n",
      "Loss rate: 48.21%\n",
      "Tie rate: 8.23%\n",
      "Blackjack rate: 5.93%\n",
      "Total reward: -336540.0\n",
      "Average reward: -0.33654\n",
      "\n",
      "Training with alpha=0.05, gamma=0.99, epsilon=0.1, lambd=0.9\n"
     ]
    },
    {
     "name": "stderr",
     "output_type": "stream",
     "text": [
      "100%|██████████| 1000000/1000000 [01:19<00:00, 12607.91it/s]\n",
      "Testing Games: 100%|██████████| 1000000/1000000 [01:07<00:00, 14827.95it/s]\n"
     ]
    },
    {
     "name": "stdout",
     "output_type": "stream",
     "text": [
      "Test Results for alpha=0.05, gamma=0.99, epsilon=0.1, lambd=0.9:\n",
      "Win rate: 43.77%\n",
      "Loss rate: 48.18%\n",
      "Tie rate: 8.05%\n",
      "Blackjack rate: 5.97%\n",
      "Total reward: -285650.0\n",
      "Average reward: -0.28565\n",
      "\n",
      "Training with alpha=0.05, gamma=0.99, epsilon=0.1, lambd=1.0\n"
     ]
    },
    {
     "name": "stderr",
     "output_type": "stream",
     "text": [
      "100%|██████████| 1000000/1000000 [01:19<00:00, 12645.69it/s]\n",
      "Testing Games: 100%|██████████| 1000000/1000000 [01:07<00:00, 14821.57it/s]\n"
     ]
    },
    {
     "name": "stdout",
     "output_type": "stream",
     "text": [
      "Test Results for alpha=0.05, gamma=0.99, epsilon=0.1, lambd=1.0:\n",
      "Win rate: 43.66%\n",
      "Loss rate: 48.22%\n",
      "Tie rate: 8.12%\n",
      "Blackjack rate: 5.99%\n",
      "Total reward: -313270.0\n",
      "Average reward: -0.31327\n",
      "\n",
      "Training with alpha=0.05, gamma=0.99, epsilon=0.05, lambd=0\n"
     ]
    },
    {
     "name": "stderr",
     "output_type": "stream",
     "text": [
      "100%|██████████| 1000000/1000000 [01:20<00:00, 12471.65it/s]\n",
      "Testing Games: 100%|██████████| 1000000/1000000 [01:07<00:00, 14724.37it/s]\n"
     ]
    },
    {
     "name": "stdout",
     "output_type": "stream",
     "text": [
      "Test Results for alpha=0.05, gamma=0.99, epsilon=0.05, lambd=0:\n",
      "Win rate: 43.26%\n",
      "Loss rate: 48.44%\n",
      "Tie rate: 8.30%\n",
      "Blackjack rate: 5.94%\n",
      "Total reward: -443180.0\n",
      "Average reward: -0.44318\n",
      "\n",
      "Training with alpha=0.05, gamma=0.99, epsilon=0.05, lambd=0.5\n"
     ]
    },
    {
     "name": "stderr",
     "output_type": "stream",
     "text": [
      "100%|██████████| 1000000/1000000 [01:19<00:00, 12535.65it/s]\n",
      "Testing Games: 100%|██████████| 1000000/1000000 [01:07<00:00, 14807.50it/s]\n"
     ]
    },
    {
     "name": "stdout",
     "output_type": "stream",
     "text": [
      "Test Results for alpha=0.05, gamma=0.99, epsilon=0.05, lambd=0.5:\n",
      "Win rate: 43.49%\n",
      "Loss rate: 48.27%\n",
      "Tie rate: 8.24%\n",
      "Blackjack rate: 5.96%\n",
      "Total reward: -359400.0\n",
      "Average reward: -0.3594\n",
      "\n",
      "Training with alpha=0.05, gamma=0.99, epsilon=0.05, lambd=0.7\n"
     ]
    },
    {
     "name": "stderr",
     "output_type": "stream",
     "text": [
      "100%|██████████| 1000000/1000000 [01:19<00:00, 12561.95it/s]\n",
      "Testing Games: 100%|██████████| 1000000/1000000 [01:07<00:00, 14777.17it/s]\n"
     ]
    },
    {
     "name": "stdout",
     "output_type": "stream",
     "text": [
      "Test Results for alpha=0.05, gamma=0.99, epsilon=0.05, lambd=0.7:\n",
      "Win rate: 43.55%\n",
      "Loss rate: 48.24%\n",
      "Tie rate: 8.22%\n",
      "Blackjack rate: 5.93%\n",
      "Total reward: -345050.0\n",
      "Average reward: -0.34505\n",
      "\n",
      "Training with alpha=0.05, gamma=0.99, epsilon=0.05, lambd=0.9\n"
     ]
    },
    {
     "name": "stderr",
     "output_type": "stream",
     "text": [
      "100%|██████████| 1000000/1000000 [01:19<00:00, 12609.61it/s]\n",
      "Testing Games: 100%|██████████| 1000000/1000000 [01:07<00:00, 14809.70it/s]\n"
     ]
    },
    {
     "name": "stdout",
     "output_type": "stream",
     "text": [
      "Test Results for alpha=0.05, gamma=0.99, epsilon=0.05, lambd=0.9:\n",
      "Win rate: 43.69%\n",
      "Loss rate: 48.61%\n",
      "Tie rate: 7.69%\n",
      "Blackjack rate: 5.95%\n",
      "Total reward: -388090.0\n",
      "Average reward: -0.38809\n",
      "\n",
      "Training with alpha=0.05, gamma=0.99, epsilon=0.05, lambd=1.0\n"
     ]
    },
    {
     "name": "stderr",
     "output_type": "stream",
     "text": [
      "100%|██████████| 1000000/1000000 [01:18<00:00, 12682.60it/s]\n",
      "Testing Games: 100%|██████████| 1000000/1000000 [01:07<00:00, 14853.33it/s]"
     ]
    },
    {
     "name": "stdout",
     "output_type": "stream",
     "text": [
      "Test Results for alpha=0.05, gamma=0.99, epsilon=0.05, lambd=1.0:\n",
      "Win rate: 43.91%\n",
      "Loss rate: 48.53%\n",
      "Tie rate: 7.56%\n",
      "Blackjack rate: 5.97%\n",
      "Total reward: -327300.0\n",
      "Average reward: -0.3273\n",
      "\n",
      "Best Hyperparameter Combination:\n",
      "Alpha: 0.05\n",
      "Gamma: 0.99\n",
      "Epsilon: 0.05\n",
      "Lambd: 1.0\n",
      "Win Rate: 43.91%\n",
      "Average Reward: -0.33\n",
      "TD model is saved to models/best_q_learning.npy.\n"
     ]
    },
    {
     "name": "stderr",
     "output_type": "stream",
     "text": [
      "\n"
     ]
    }
   ],
   "source": [
    "# Hyperparameter grids to search\n",
    "hyperparameters = {\n",
    "    \"alpha_values\": [0.1, 0.05],\n",
    "    \"gamma_values\": [0.9, 0.95, 0.99],\n",
    "    \"epsilon_values\": [0.2, 0.1, 0.05],\n",
    "    \"lambd_values\": [0, 0.5, 0.7, 0.9, 1.0]\n",
    "}\n",
    "\n",
    "# Number of episodes for training and testing\n",
    "num_train_episodes = 1000000\n",
    "num_test_games = 1000000\n",
    "\n",
    "# Fine-tuning loop\n",
    "results = []\n",
    "\n",
    "# Create environment\n",
    "env = BlackjackGame()\n",
    "\n",
    "# Placeholder for the best agent's Q-table\n",
    "best_q_table = None\n",
    "\n",
    "# Iterate over all combinations of hyperparameters\n",
    "for alpha, gamma, epsilon, lambd in itertools.product(\n",
    "    hyperparameters[\"alpha_values\"],\n",
    "    hyperparameters[\"gamma_values\"],\n",
    "    hyperparameters[\"epsilon_values\"],\n",
    "    hyperparameters[\"lambd_values\"]\n",
    "):\n",
    "    print(f\"\\nTraining with alpha={alpha}, gamma={gamma}, epsilon={epsilon}, lambd={lambd}\")\n",
    "\n",
    "    # Create a new agent with the current hyperparameters\n",
    "    agent = TemporalDifference(\n",
    "        env=env,\n",
    "        alpha=alpha,    # Learning rate\n",
    "        gamma=gamma,    # Discount factor\n",
    "        epsilon=epsilon,  # Exploration rate\n",
    "        lambd=lambd     # Trace decay\n",
    "    )\n",
    "\n",
    "    # Train the agent\n",
    "    agent.train(num_episodes=num_train_episodes, on_policy=False, true_count=2)\n",
    "\n",
    "    # Test the agent\n",
    "    test_results = test_td_model(agent, env, num_test_games=num_test_games)\n",
    "\n",
    "    # Print the test results\n",
    "    print(f\"Test Results for alpha={alpha}, gamma={gamma}, epsilon={epsilon}, lambd={lambd}:\")\n",
    "    for key, value in test_results.items():\n",
    "        if key.endswith(\"rate\"):\n",
    "            print(f\"{key.capitalize().replace('_', ' ')}: {value:.2%}\")\n",
    "        else:\n",
    "            print(f\"{key.capitalize().replace('_', ' ')}: {value}\")\n",
    "\n",
    "    # Save results\n",
    "    results.append({\n",
    "        \"alpha\": alpha,\n",
    "        \"gamma\": gamma,\n",
    "        \"epsilon\": epsilon,\n",
    "        \"lambd\": lambd,\n",
    "        **test_results\n",
    "    })\n",
    "\n",
    "    # Update the best Q-table if this agent has the highest win rate\n",
    "    if best_q_table is None or test_results[\"win_rate\"] > max(r[\"win_rate\"] for r in results[:-1]):\n",
    "        best_q_table = agent.Q\n",
    "\n",
    "# Find the best hyperparameter combination based on win rate\n",
    "best_result = max(results, key=lambda x: x[\"win_rate\"])\n",
    "\n",
    "print(\"\\nBest Hyperparameter Combination:\")\n",
    "print(f\"Alpha: {best_result['alpha']}\")\n",
    "print(f\"Gamma: {best_result['gamma']}\")\n",
    "print(f\"Epsilon: {best_result['epsilon']}\")\n",
    "print(f\"Lambd: {best_result['lambd']}\")\n",
    "print(f\"Win Rate: {best_result['win_rate']:.2%}\")\n",
    "print(f\"Average Reward: {best_result['average_reward']:.2f}\")\n",
    "\n",
    "# Save the best model\n",
    "save_td_model(best_q_table, \"models/best_q_learning.npy\")"
   ]
  }
 ],
 "metadata": {
  "kernelspec": {
   "display_name": "base",
   "language": "python",
   "name": "python3"
  },
  "language_info": {
   "codemirror_mode": {
    "name": "ipython",
    "version": 3
   },
   "file_extension": ".py",
   "mimetype": "text/x-python",
   "name": "python",
   "nbconvert_exporter": "python",
   "pygments_lexer": "ipython3",
   "version": "3.12.2"
  }
 },
 "nbformat": 4,
 "nbformat_minor": 2
}
